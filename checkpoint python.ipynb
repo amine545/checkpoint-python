{
 "cells": [
  {
   "cell_type": "code",
   "execution_count": 31,
   "id": "90e99917",
   "metadata": {},
   "outputs": [
    {
     "name": "stdout",
     "output_type": "stream",
     "text": [
      "[2002, 2009, 2016, 2023, 2037, 2044, 2051, 2058, 2072, 2079, 2086, 2093, 2107, 2114, 2121, 2128, 2142, 2149, 2156, 2163, 2177, 2184, 2191, 2198, 2212, 2219, 2226, 2233, 2247, 2254, 2261, 2268, 2282, 2289, 2296, 2303, 2317, 2324, 2331, 2338, 2352, 2359, 2366, 2373, 2387, 2394, 2401, 2408, 2422, 2429, 2436, 2443, 2457, 2464, 2471, 2478, 2492, 2499, 2506, 2513, 2527, 2534, 2541, 2548, 2562, 2569, 2576, 2583, 2597, 2604, 2611, 2618, 2632, 2639, 2646, 2653, 2667, 2674, 2681, 2688, 2702, 2709, 2716, 2723, 2737, 2744, 2751, 2758, 2772, 2779, 2786, 2793, 2807, 2814, 2821, 2828, 2842, 2849, 2856, 2863, 2877, 2884, 2891, 2898, 2912, 2919, 2926, 2933, 2947, 2954, 2961, 2968, 2982, 2989, 2996, 3003, 3017, 3024, 3031, 3038, 3052, 3059, 3066, 3073, 3087, 3094, 3101, 3108, 3122, 3129, 3136, 3143, 3157, 3164, 3171, 3178, 3192, 3199]\n"
     ]
    }
   ],
   "source": [
    "#question 1\n",
    "list=[]\n",
    "for i in range (2000,3201) :\n",
    "    if i%7==0 and i%5!=0 :\n",
    "        list.append(i)\n",
    "print(list)\n"
   ]
  },
  {
   "cell_type": "code",
   "execution_count": 39,
   "id": "346ee4ab",
   "metadata": {},
   "outputs": [
    {
     "name": "stdout",
     "output_type": "stream",
     "text": [
      "enter an integer :0\n",
      "0\n"
     ]
    }
   ],
   "source": [
    "#question 2\n",
    "x=int(input('enter an integer :'))\n",
    "a=x\n",
    "for i in range(1,x):\n",
    "    a=a*i\n",
    "print(a)"
   ]
  },
  {
   "cell_type": "code",
   "execution_count": 1,
   "id": "d072e4a9",
   "metadata": {},
   "outputs": [
    {
     "name": "stdout",
     "output_type": "stream",
     "text": [
      "enter a number :5\n"
     ]
    },
    {
     "data": {
      "text/plain": [
       "{1: 1, 2: 4, 3: 9, 4: 16, 5: 25}"
      ]
     },
     "execution_count": 1,
     "metadata": {},
     "output_type": "execute_result"
    }
   ],
   "source": [
    "#question 3\n",
    "num=int(input('enter a number :'))\n",
    "mydict={}\n",
    "for i in range(1,num+1) :\n",
    "    mydict[i]=i*i\n",
    "mydict"
   ]
  },
  {
   "cell_type": "code",
   "execution_count": null,
   "id": "201a8b07",
   "metadata": {},
   "outputs": [],
   "source": [
    "#question 4\n",
    "string=input('enter a string :')\n",
    "a=len(string)\n",
    "x=int(input('enter the index of the character you want to remove :'))\n",
    "while x>(a-1):\n",
    "    x=int(input('please reenter the index of the character you want to remove  '))\n",
    "string1=string[:x]+string[x+1:]\n",
    "print(string1)"
   ]
  },
  {
   "cell_type": "code",
   "execution_count": 30,
   "id": "fe3efd70",
   "metadata": {},
   "outputs": [
    {
     "name": "stdout",
     "output_type": "stream",
     "text": [
      "how many elements in yourl list2\n",
      "enter an element5\n",
      "enter an element5\n",
      "['5' '5']\n",
      "['5', '5']\n"
     ]
    }
   ],
   "source": [
    "#question 5\n",
    "import numpy\n",
    "array1=numpy.array([])\n",
    "x=int(input('how many elements in yourl list'))\n",
    "for i in range(x):\n",
    "    a=input('enter an element')\n",
    "    array1=numpy.append(array1,a)\n",
    "new_array=array1.tolist()\n",
    "print(array1)\n",
    "print(new_array)"
   ]
  },
  {
   "cell_type": "code",
   "execution_count": 50,
   "id": "e300f165",
   "metadata": {},
   "outputs": [
    {
     "data": {
      "text/plain": [
       "array([[ 1., -1.],\n",
       "       [-1.,  1.]])"
      ]
     },
     "execution_count": 50,
     "metadata": {},
     "output_type": "execute_result"
    }
   ],
   "source": [
    "#quesion 6\n",
    "import numpy\n",
    "array1=numpy.array([0,1,2])\n",
    "array2=numpy.array([2,1,0])\n",
    "numpy.cov(array1,array2)\n"
   ]
  },
  {
   "cell_type": "code",
   "execution_count": 62,
   "id": "f67e3314",
   "metadata": {},
   "outputs": [
    {
     "name": "stdout",
     "output_type": "stream",
     "text": [
      "enter a sequence of numbers seperated by a comma : 100,150,180\n",
      "18\n",
      "22\n",
      "24\n"
     ]
    }
   ],
   "source": [
    "#question 7 \n",
    "from math import sqrt\n",
    "C=50\n",
    "H=30\n",
    "def myfunc (d):\n",
    "    D=int(d)\n",
    "    x=C*2*D\n",
    "    x1=x/H\n",
    "    x2=sqrt(x1)\n",
    "    return x2\n",
    "sequence=input('enter a sequence of numbers seperated by a comma : ')\n",
    "mylist=sequence.split(',')\n",
    "for i in range (len(mylist)):\n",
    "    print(round(myfunc(mylist[i])))"
   ]
  },
  {
   "cell_type": "code",
   "execution_count": 53,
   "id": "49a2342d",
   "metadata": {},
   "outputs": [],
   "source": [
    "# "
   ]
  },
  {
   "cell_type": "code",
   "execution_count": null,
   "id": "552cc6a5",
   "metadata": {},
   "outputs": [],
   "source": []
  }
 ],
 "metadata": {
  "kernelspec": {
   "display_name": "Python 3",
   "language": "python",
   "name": "python3"
  },
  "language_info": {
   "codemirror_mode": {
    "name": "ipython",
    "version": 3
   },
   "file_extension": ".py",
   "mimetype": "text/x-python",
   "name": "python",
   "nbconvert_exporter": "python",
   "pygments_lexer": "ipython3",
   "version": "3.8.8"
  }
 },
 "nbformat": 4,
 "nbformat_minor": 5
}
